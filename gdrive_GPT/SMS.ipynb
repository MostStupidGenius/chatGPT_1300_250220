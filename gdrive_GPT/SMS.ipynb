{
 "cells": [
  {
   "cell_type": "code",
   "execution_count": 1,
   "metadata": {
    "colab": {
     "base_uri": "https://localhost:8080/",
     "height": 330
    },
    "executionInfo": {
     "elapsed": 679,
     "status": "error",
     "timestamp": 1740548237129,
     "user": {
      "displayName": "이준상",
      "userId": "09057836011724221339"
     },
     "user_tz": -540
    },
    "id": "quPe7An0vyX0",
    "outputId": "5d68d8a1-35e7-4e96-e775-a8768197209b"
   },
   "outputs": [
    {
     "ename": "AttributeError",
     "evalue": "'NoneType' object has no attribute 'encode'",
     "output_type": "error",
     "traceback": [
      "\u001b[0;31m---------------------------------------------------------------------------\u001b[0m",
      "\u001b[0;31mAttributeError\u001b[0m                            Traceback (most recent call last)",
      "\u001b[0;32m<ipython-input-1-76dd05f99369>\u001b[0m in \u001b[0;36m<cell line: 0>\u001b[0;34m()\u001b[0m\n\u001b[1;32m     50\u001b[0m \u001b[0;34m\u001b[0m\u001b[0m\n\u001b[1;32m     51\u001b[0m \u001b[0;31m# 사용 예시\u001b[0m\u001b[0;34m\u001b[0m\u001b[0;34m\u001b[0m\u001b[0m\n\u001b[0;32m---> 52\u001b[0;31m \u001b[0msend_sms\u001b[0m\u001b[0;34m(\u001b[0m\u001b[0;34m'수신자_번호'\u001b[0m\u001b[0;34m,\u001b[0m \u001b[0;34m'안녕하세요! SMS 테스트입니다.'\u001b[0m\u001b[0;34m)\u001b[0m\u001b[0;34m\u001b[0m\u001b[0;34m\u001b[0m\u001b[0m\n\u001b[0m",
      "\u001b[0;32m<ipython-input-1-76dd05f99369>\u001b[0m in \u001b[0;36msend_sms\u001b[0;34m(to, text)\u001b[0m\n\u001b[1;32m     25\u001b[0m \u001b[0;34m\u001b[0m\u001b[0m\n\u001b[1;32m     26\u001b[0m     \u001b[0;31m# Signature 생성\u001b[0m\u001b[0;34m\u001b[0m\u001b[0;34m\u001b[0m\u001b[0m\n\u001b[0;32m---> 27\u001b[0;31m     \u001b[0msignature\u001b[0m \u001b[0;34m=\u001b[0m \u001b[0mgenerate_signature\u001b[0m\u001b[0;34m(\u001b[0m\u001b[0mAPI_SECRET\u001b[0m\u001b[0;34m,\u001b[0m \u001b[0mdate_time\u001b[0m\u001b[0;34m,\u001b[0m \u001b[0msalt\u001b[0m\u001b[0;34m)\u001b[0m\u001b[0;34m\u001b[0m\u001b[0;34m\u001b[0m\u001b[0m\n\u001b[0m\u001b[1;32m     28\u001b[0m \u001b[0;34m\u001b[0m\u001b[0m\n\u001b[1;32m     29\u001b[0m     \u001b[0;31m# HTTP 헤더 설정\u001b[0m\u001b[0;34m\u001b[0m\u001b[0;34m\u001b[0m\u001b[0m\n",
      "\u001b[0;32m<ipython-input-1-76dd05f99369>\u001b[0m in \u001b[0;36mgenerate_signature\u001b[0;34m(api_secret, date_time, salt)\u001b[0m\n\u001b[1;32m     16\u001b[0m     \u001b[0;31m# Signature 생성\u001b[0m\u001b[0;34m\u001b[0m\u001b[0;34m\u001b[0m\u001b[0m\n\u001b[1;32m     17\u001b[0m     \u001b[0mdata\u001b[0m \u001b[0;34m=\u001b[0m \u001b[0mdate_time\u001b[0m \u001b[0;34m+\u001b[0m \u001b[0msalt\u001b[0m\u001b[0;34m\u001b[0m\u001b[0;34m\u001b[0m\u001b[0m\n\u001b[0;32m---> 18\u001b[0;31m     \u001b[0msignature\u001b[0m \u001b[0;34m=\u001b[0m \u001b[0mhmac\u001b[0m\u001b[0;34m.\u001b[0m\u001b[0mnew\u001b[0m\u001b[0;34m(\u001b[0m\u001b[0mapi_secret\u001b[0m\u001b[0;34m.\u001b[0m\u001b[0mencode\u001b[0m\u001b[0;34m(\u001b[0m\u001b[0;34m'utf-8'\u001b[0m\u001b[0;34m)\u001b[0m\u001b[0;34m,\u001b[0m \u001b[0mdata\u001b[0m\u001b[0;34m.\u001b[0m\u001b[0mencode\u001b[0m\u001b[0;34m(\u001b[0m\u001b[0;34m'utf-8'\u001b[0m\u001b[0;34m)\u001b[0m\u001b[0;34m,\u001b[0m \u001b[0mhashlib\u001b[0m\u001b[0;34m.\u001b[0m\u001b[0msha256\u001b[0m\u001b[0;34m)\u001b[0m\u001b[0;34m.\u001b[0m\u001b[0mhexdigest\u001b[0m\u001b[0;34m(\u001b[0m\u001b[0;34m)\u001b[0m\u001b[0;34m\u001b[0m\u001b[0;34m\u001b[0m\u001b[0m\n\u001b[0m\u001b[1;32m     19\u001b[0m     \u001b[0;32mreturn\u001b[0m \u001b[0msignature\u001b[0m\u001b[0;34m\u001b[0m\u001b[0;34m\u001b[0m\u001b[0m\n\u001b[1;32m     20\u001b[0m \u001b[0;34m\u001b[0m\u001b[0m\n",
      "\u001b[0;31mAttributeError\u001b[0m: 'NoneType' object has no attribute 'encode'"
     ]
    }
   ],
   "source": [
    "import requests\n",
    "import hashlib\n",
    "import hmac\n",
    "import base64\n",
    "import time\n",
    "import uuid\n",
    "from datetime import datetime\n",
    "import os\n",
    "from google.colab import userdata\n",
    "\n",
    "API_KEY = userdata.get('API_KEY')\n",
    "API_SECRET = userdata.get('API_SECRET')\n",
    "\n",
    "URL = 'https://api.coolsms.co.kr/messages/v4/send'\n",
    "\n",
    "def generate_signature(api_secret, date_time, salt):\n",
    "    # Signature 생성\n",
    "    data = date_time + salt\n",
    "    signature = hmac.new(api_secret.encode('utf-8'), data.encode('utf-8'), hashlib.sha256).hexdigest()\n",
    "    return signature\n",
    "\n",
    "def send_sms(to, text):\n",
    "    # 현재 시간과 Salt 생성\n",
    "    date_time = datetime.utcnow().isoformat() + 'Z'\n",
    "    salt = str(uuid.uuid4()).replace('-', '')[:12]  # 12바이트의 랜덤 문자열 생성\n",
    "\n",
    "    # Signature 생성\n",
    "    signature = generate_signature(API_SECRET, date_time, salt)\n",
    "\n",
    "    # HTTP 헤더 설정\n",
    "    headers = {\n",
    "        'Authorization': f'HMAC-SHA256 apiKey={API_KEY}, date={date_time}, salt={salt}, signature={signature}',\n",
    "        'Content-Type': 'application/json'\n",
    "    }\n",
    "\n",
    "    # 요청 데이터 설정\n",
    "    data = {\n",
    "        'to': to,\n",
    "        'from': '029302266',  # 발신자 번호\n",
    "        'text': text\n",
    "    }\n",
    "\n",
    "    # SMS 전송 요청\n",
    "    response = requests.post(URL, headers=headers, json=data)\n",
    "\n",
    "    # 응답 확인\n",
    "    if response.status_code == 200:\n",
    "        print(\"SMS 전송 성공:\", response.json())\n",
    "    else:\n",
    "        print(\"SMS 전송 실패:\", response.status_code, response.text)\n",
    "\n",
    "# 사용 예시\n",
    "send_sms('01077287518', '안녕하세요! SMS 테스트입니다.')\n"
   ]
  }
 ],
 "metadata": {
  "colab": {
   "authorship_tag": "ABX9TyN3yvD+E40x3O4YajNzLzoM",
   "provenance": []
  },
  "kernelspec": {
   "display_name": "Python 3",
   "name": "python3"
  },
  "language_info": {
   "name": "python"
  }
 },
 "nbformat": 4,
 "nbformat_minor": 0
}
