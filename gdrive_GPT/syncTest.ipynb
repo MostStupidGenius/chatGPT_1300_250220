{
 "cells": [
  {
   "cell_type": "markdown",
   "metadata": {
    "id": "2VQ7p6DALS3J"
   },
   "source": [
    "# 구글 드라이브와 로컬 폴더 연동하기 테스트\n",
    "- 연동 확인 전\n",
    "- 로컬에서 연동 확인 완료"
   ]
  },
  {
   "cell_type": "markdown",
   "metadata": {
    "id": "9olQLn7YMbz4"
   },
   "source": [
    "- 구글 드라이브와 로컬의 폴더를 연동하는 이유\n",
    "1. 구글 드라이브(웹)에서는 구글의 컴퓨트 엔진으로 좋은 성능으로 코드를 실행하기 위해\n",
    "2. 로컬에서는 CursorAI의 도움을 받아 코드를 작성하기 위해서\n",
    "3. 구글 드라이브와의 연동을 통해, 자동으로 파일을 백업되도록 하기 위해서"
   ]
  },
  {
   "cell_type": "code",
   "execution_count": null,
   "metadata": {
    "id": "WyeEywCaLO1p"
   },
   "outputs": [],
   "source": []
  }
 ],
 "metadata": {
  "colab": {
   "provenance": []
  },
  "kernelspec": {
   "display_name": "Python 3",
   "name": "python3"
  },
  "language_info": {
   "name": "python"
  }
 },
 "nbformat": 4,
 "nbformat_minor": 0
}
